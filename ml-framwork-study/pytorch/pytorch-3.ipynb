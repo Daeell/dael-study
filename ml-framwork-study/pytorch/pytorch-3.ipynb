{
 "cells": [
  {
   "cell_type": "code",
   "execution_count": 2,
   "metadata": {},
   "outputs": [
    {
     "name": "stdout",
     "output_type": "stream",
     "text": [
      "device : mps\n"
     ]
    }
   ],
   "source": [
    "import torch\n",
    "device = torch.device('mps')\n",
    "\n",
    "# 일반적인 Nvidia GPU를 활용할 경우에는 GPU 가속화를 위해 cuda에 할당하지만\n",
    "# Apple M1 에서는 Metal(MPS)으로 변경하여 사용해야 한다."
   ]
  },
  {
   "cell_type": "markdown",
   "metadata": {},
   "source": [
    "# 3. 텐서의 형변환 및 차원 조작\n",
    "* 고차원의 데이터를 처리하는데 있어서 텐서를 활용하는 것이 용이하다\n",
    "* 텐서는 Numpy 배열처럼 조작할수 있다"
   ]
  },
  {
   "cell_type": "markdown",
   "metadata": {},
   "source": [
    "## 3-1. 텐서의 특정 차원 접근하기\n",
    "* 텐서는 원하는 차원에 접근할 수 있다\n",
    "* 파이썬에서 사용하는 indexing 기법이나 slicing 기법 등을 사용하여 간단하게 접근할 수 있다."
   ]
  },
  {
   "cell_type": "code",
   "execution_count": 3,
   "metadata": {},
   "outputs": [
    {
     "name": "stdout",
     "output_type": "stream",
     "text": [
      "tensor([4, 5, 6, 7])\n",
      "tensor([ 4,  1, 11])\n",
      "tensor([ 7,  8, 17])\n"
     ]
    }
   ],
   "source": [
    "tensor = torch.tensor([\n",
    "    [4,5,6,7],\n",
    "    [1,3,2,8],\n",
    "    [11,13,15,17]\n",
    "])\n",
    "\n",
    "# print first row\n",
    "print(tensor[0])\n",
    "# print first column\n",
    "print(tensor[:,0])\n",
    "# print last column\n",
    "print(tensor[:,-1])"
   ]
  },
  {
   "cell_type": "markdown",
   "metadata": {},
   "source": [
    "## 3-2. 텐서 이어 붙이기 (concatenate)\n",
    "* 두 개의 텐서를 이어 붙여 연결해서 새로운 텐서룰 생성할 수 있다.\n",
    "* dim, axis : 텐서를 이어 붙이기 위한 축\n",
    "* 0일 경우 행을 의미하고, 1일 경우 열을 의미한다."
   ]
  },
  {
   "cell_type": "code",
   "execution_count": 6,
   "metadata": {},
   "outputs": [
    {
     "name": "stdout",
     "output_type": "stream",
     "text": [
      "tensor([[6, 3, 2, 7],\n",
      "        [1, 5, 4, 8],\n",
      "        [2, 7, 6, 9],\n",
      "        [6, 3, 2, 7],\n",
      "        [1, 5, 4, 8],\n",
      "        [2, 7, 6, 9]])\n",
      "tensor([[6, 3, 2, 7, 6, 3, 2, 7],\n",
      "        [1, 5, 4, 8, 1, 5, 4, 8],\n",
      "        [2, 7, 6, 9, 2, 7, 6, 9]])\n",
      "tensor([[6, 3, 2, 7],\n",
      "        [1, 5, 4, 8],\n",
      "        [2, 7, 6, 9],\n",
      "        [6, 3, 2, 7],\n",
      "        [1, 5, 4, 8],\n",
      "        [2, 7, 6, 9]])\n",
      "tensor([[6, 3, 2, 7, 6, 3, 2, 7],\n",
      "        [1, 5, 4, 8, 1, 5, 4, 8],\n",
      "        [2, 7, 6, 9, 2, 7, 6, 9]])\n"
     ]
    }
   ],
   "source": [
    "tensor = torch.tensor([\n",
    "    [6,3,2,7],\n",
    "    [1,5,4,8],\n",
    "    [2,7,6,9],\n",
    "])\n",
    "\n",
    "# dim = 0 : 0번 축(행) 을 기준으로 \n",
    "res = torch.cat([tensor, tensor], dim=0)\n",
    "print(res)\n",
    "\n",
    "# dim = 1 : 1번 축(열) 을 기준으로\n",
    "res = torch.cat([tensor, tensor], dim=1)\n",
    "print(res)\n",
    "\n",
    "# axis = 0 : 0번 축(행) 을 기준으로\n",
    "res = torch.cat([tensor, tensor], axis=0)\n",
    "print(res)\n",
    "\n",
    "# axis = 1 : 1번 축(열) 을 기준으로\n",
    "res = torch.cat([tensor, tensor], axis=1)\n",
    "print(res)"
   ]
  },
  {
   "cell_type": "markdown",
   "metadata": {},
   "source": [
    "## 3-3. 텐서 형변환(type casting)\n",
    "* torch안에 정의된 데이터 타입을 명시하여 텐서의 자료형을 변환할 수 있다\n",
    "* 일반적인 파이썬과 마찬가지로 실수와 정수간의 연산을 수행할 때 실수형으로 자동으로 변환하여 처리한다."
   ]
  },
  {
   "cell_type": "code",
   "execution_count": 4,
   "metadata": {},
   "outputs": [
    {
     "name": "stdout",
     "output_type": "stream",
     "text": [
      "torch.int32\n",
      "torch.float32\n",
      "tensor([9.])\n",
      "tensor([9], dtype=torch.int32)\n",
      "tensor([9], dtype=torch.int32)\n"
     ]
    }
   ],
   "source": [
    "a = torch.tensor([3], dtype=torch.int)\n",
    "b = torch.tensor([6.0])\n",
    "\n",
    "print(a.dtype)\n",
    "print(b.dtype)\n",
    "\n",
    "# 실수 데이터 타입 텐서와 정수 데이터 타입의 텐서를 연산을 수행하면 정수 데이터 타입을 자동으로 float32형으로 형변환\n",
    "print(a + b)\n",
    "# 실수 데이터 타입 텐서를 int로 형 변환하여 덧셈 연산 수행\n",
    "print(a + b.int())\n",
    "print(a + b.type(torch.int))"
   ]
  },
  {
   "cell_type": "markdown",
   "metadata": {},
   "source": [
    "## 3-4. 텐서의 모양 변경\n",
    "* view 메서드는 텐서의 모양(shape)를 변경할 때 사용\n",
    "* 이떄 텐서의 순서는 변경되지 않음"
   ]
  },
  {
   "cell_type": "code",
   "execution_count": 9,
   "metadata": {},
   "outputs": [
    {
     "name": "stdout",
     "output_type": "stream",
     "text": [
      "tensor([[4, 6],\n",
      "        [2, 5],\n",
      "        [9, 1],\n",
      "        [3, 7]])\n",
      "tensor([[10,  6],\n",
      "        [ 2,  5],\n",
      "        [ 9,  1],\n",
      "        [ 3,  7]])\n",
      "tensor([[10,  6],\n",
      "        [ 2,  5],\n",
      "        [ 9,  1],\n",
      "        [ 3,  7]])\n"
     ]
    }
   ],
   "source": [
    "# view()를 통해 텐서의 모양을 변경할 수 있으나 순서는 변경되지 않는다.\n",
    "# 따라서 순서가 바뀌면 오류가 발생한다.\n",
    "# 해당 텐서의 메모리 주소를 참조하기 때문에 참조하는 텐서를 변경하면 같이 변경된다\n",
    "a = torch.tensor([4,6,2,5,9,1,3,7])\n",
    "b = a.view(4,2)\n",
    "print(b)\n",
    "\n",
    "# a를 변경하면 b도 변경된다\n",
    "a[0] = 10\n",
    "print(b)\n",
    "\n",
    "# a를 복사하고 변경한다 -> 참조하는 텐서가 바뀌어도 영향을 받지 않음\n",
    "c = a.clone().view(4,2)\n",
    "a[0] = 20\n",
    "print(c)"
   ]
  },
  {
   "cell_type": "markdown",
   "metadata": {},
   "source": [
    "## 3-5. 텐서의 차원 교환\n",
    "* 하나의 텐서에서 특정한 차원끼리 순서를 교체할 수 있다. - permute"
   ]
  },
  {
   "cell_type": "code",
   "execution_count": 13,
   "metadata": {},
   "outputs": [
    {
     "name": "stdout",
     "output_type": "stream",
     "text": [
      "torch.Size([64, 32, 3])\n",
      "torch.Size([3, 32, 64])\n"
     ]
    }
   ],
   "source": [
    "# torch.rand는 정규 분포에서 무작위로 추출한 난수를 가지고 지정된 크기의 텐서를 생성한다.\n",
    "a = torch.rand([64, 32, 3]) # 64x32x3 텐서 생성\n",
    "print(a.shape)\n",
    "\n",
    "b = a.permute(2, 1, 0) # 차원자체를  변경 (2번째 축, 1번째 축, 0번쨰 축)의 형태가 되도록 한다)\n",
    "print(b.shape)"
   ]
  }
 ],
 "metadata": {
  "kernelspec": {
   "display_name": "dael",
   "language": "python",
   "name": "python3"
  },
  "language_info": {
   "codemirror_mode": {
    "name": "ipython",
    "version": 3
   },
   "file_extension": ".py",
   "mimetype": "text/x-python",
   "name": "python",
   "nbconvert_exporter": "python",
   "pygments_lexer": "ipython3",
   "version": "3.10.13"
  }
 },
 "nbformat": 4,
 "nbformat_minor": 2
}
