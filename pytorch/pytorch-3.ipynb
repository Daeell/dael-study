{
 "cells": [
  {
   "cell_type": "code",
   "execution_count": 2,
   "metadata": {},
   "outputs": [
    {
     "name": "stdout",
     "output_type": "stream",
     "text": [
      "device : mps\n"
     ]
    }
   ],
   "source": [
    "import torch\n",
    "\n",
    "device = torch.device('mps')\n",
    "print(f'device : {device}')\n",
    "\n",
    "# 일반적인 Nvidia GPU를 활용할 경우에는 GPU 가속화를 위해 cuda에 할당하지만\n",
    "# Apple M1 에서는 Metal(MPS)으로 변경하여 사용해야 한다."
   ]
  },
  {
   "cell_type": "markdown",
   "metadata": {},
   "source": [
    "# 3. 텐서의 형변환 및 차원 조작\n",
    "* 고차원의 데이터를 처리하는데 있어서 텐서를 활용하는 것이 용이하다\n",
    "* 텐서는 Numpy 배열처럼 조작할수 있다"
   ]
  },
  {
   "cell_type": "markdown",
   "metadata": {},
   "source": [
    "## 3-1. 텐서의 특정 차원 접근하기\n",
    "* 텐서는 원하는 차원에 접근할 수 있다\n",
    "* 파이썬에서 사용하는 indexing 기법이나 slicing 기법 등을 사용하여 간단하게 접근할 수 있다."
   ]
  },
  {
   "cell_type": "code",
   "execution_count": 3,
   "metadata": {},
   "outputs": [
    {
     "name": "stdout",
     "output_type": "stream",
     "text": [
      "tensor([4, 5, 6, 7])\n",
      "tensor([ 4,  1, 11])\n",
      "tensor([ 7,  8, 17])\n"
     ]
    }
   ],
   "source": [
    "tensor = torch.tensor([\n",
    "    [4,5,6,7],\n",
    "    [1,3,2,8],\n",
    "    [11,13,15,17]\n",
    "])\n",
    "\n",
    "# print first row\n",
    "print(tensor[0])\n",
    "# print first column\n",
    "print(tensor[:,0])\n",
    "# print last column\n",
    "print(tensor[:,-1])"
   ]
  },
  {
   "cell_type": "markdown",
   "metadata": {},
   "source": [
    "## 3-2. 텐서 이어 붙이기 (concatenate)\n",
    "* 두 개의 텐서를 이어 붙여 연결해서 새로운 텐서룰 생성할 수 있다.\n",
    "* dim, axis : 텐서를 이어 붙이기 위한 축\n",
    "* 0일 경우 행을 의미하고, 1일 경우 열을 의미한다."
   ]
  },
  {
   "cell_type": "code",
   "execution_count": 6,
   "metadata": {},
   "outputs": [
    {
     "name": "stdout",
     "output_type": "stream",
     "text": [
      "tensor([[6, 3, 2, 7],\n",
      "        [1, 5, 4, 8],\n",
      "        [2, 7, 6, 9],\n",
      "        [6, 3, 2, 7],\n",
      "        [1, 5, 4, 8],\n",
      "        [2, 7, 6, 9]])\n",
      "tensor([[6, 3, 2, 7, 6, 3, 2, 7],\n",
      "        [1, 5, 4, 8, 1, 5, 4, 8],\n",
      "        [2, 7, 6, 9, 2, 7, 6, 9]])\n",
      "tensor([[6, 3, 2, 7],\n",
      "        [1, 5, 4, 8],\n",
      "        [2, 7, 6, 9],\n",
      "        [6, 3, 2, 7],\n",
      "        [1, 5, 4, 8],\n",
      "        [2, 7, 6, 9]])\n",
      "tensor([[6, 3, 2, 7, 6, 3, 2, 7],\n",
      "        [1, 5, 4, 8, 1, 5, 4, 8],\n",
      "        [2, 7, 6, 9, 2, 7, 6, 9]])\n"
     ]
    }
   ],
   "source": [
    "tensor = torch.tensor([\n",
    "    [6,3,2,7],\n",
    "    [1,5,4,8],\n",
    "    [2,7,6,9],\n",
    "])\n",
    "\n",
    "# dim = 0 : 0번 축(행) 을 기준으로 \n",
    "res = torch.cat([tensor, tensor], dim=0)\n",
    "print(res)\n",
    "\n",
    "# dim = 1 : 1번 축(열) 을 기준으로\n",
    "res = torch.cat([tensor, tensor], dim=1)\n",
    "print(res)\n",
    "\n",
    "# axis = 0 : 0번 축(행) 을 기준으로\n",
    "res = torch.cat([tensor, tensor], axis=0)\n",
    "print(res)\n",
    "\n",
    "# axis = 1 : 1번 축(열) 을 기준으로\n",
    "res = torch.cat([tensor, tensor], axis=1)\n",
    "print(res)"
   ]
  },
  {
   "cell_type": "markdown",
   "metadata": {},
   "source": [
    "## 3-3. 텐서 형변환(type casting)\n",
    "* torch안에 정의된 데이터 타입을 명시하여 텐서의 자료형을 변환할 수 있다\n",
    "* 일반적인 파이썬과 마찬가지로 실수와 정수간의 연산을 수행할 때 실수형으로 자동으로 변환하여 처리한다."
   ]
  },
  {
   "cell_type": "code",
   "execution_count": 4,
   "metadata": {},
   "outputs": [
    {
     "name": "stdout",
     "output_type": "stream",
     "text": [
      "torch.int32\n",
      "torch.float32\n",
      "tensor([9.])\n",
      "tensor([9], dtype=torch.int32)\n",
      "tensor([9], dtype=torch.int32)\n"
     ]
    }
   ],
   "source": [
    "a = torch.tensor([3], dtype=torch.int)\n",
    "b = torch.tensor([6.0])\n",
    "\n",
    "print(a.dtype)\n",
    "print(b.dtype)\n",
    "\n",
    "# 실수 데이터 타입 텐서와 정수 데이터 타입의 텐서를 연산을 수행하면 정수 데이터 타입을 자동으로 float32형으로 형변환\n",
    "print(a + b)\n",
    "# 실수 데이터 타입 텐서를 int로 형 변환하여 덧셈 연산 수행\n",
    "print(a + b.int())\n",
    "print(a + b.type(torch.int))"
   ]
  }
 ],
 "metadata": {
  "kernelspec": {
   "display_name": "dael",
   "language": "python",
   "name": "python3"
  },
  "language_info": {
   "codemirror_mode": {
    "name": "ipython",
    "version": 3
   },
   "file_extension": ".py",
   "mimetype": "text/x-python",
   "name": "python",
   "nbconvert_exporter": "python",
   "pygments_lexer": "ipython3",
   "version": "3.10.13"
  }
 },
 "nbformat": 4,
 "nbformat_minor": 2
}
